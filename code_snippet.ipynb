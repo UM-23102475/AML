{
 "cells": [
  {
   "cell_type": "markdown",
   "metadata": {},
   "source": [
    "# Data preparation and processing"
   ]
  },
  {
   "cell_type": "markdown",
   "metadata": {},
   "source": [
    "- Import libraries"
   ]
  },
  {
   "cell_type": "code",
   "execution_count": 1,
   "metadata": {},
   "outputs": [],
   "source": [
    "from sklearn.model_selection import train_test_split\n",
    "from sklearn.preprocessing import StandardScaler, MinMaxScaler\n",
    "\n",
    "import model_architecture\n",
    "import numpy as np\n",
    "import pandas as pd"
   ]
  },
  {
   "cell_type": "markdown",
   "metadata": {},
   "source": [
    "- Download dataset via kagglehub"
   ]
  },
  {
   "cell_type": "code",
   "execution_count": null,
   "metadata": {},
   "outputs": [],
   "source": [
    "# import kagglehub\n",
    "\n",
    "# path = kagglehub.dataset_download(\"mitishaagarwal/patient\")\n",
    "\n",
    "# print(\"Path to dataset files:\", path)"
   ]
  },
  {
   "cell_type": "markdown",
   "metadata": {},
   "source": [
    "- Give a variable to store the path\n",
    "- Read the CSV from the path\n",
    "- Display the first 5 rows of data to test if successfully read the path"
   ]
  },
  {
   "cell_type": "code",
   "execution_count": 2,
   "metadata": {},
   "outputs": [],
   "source": [
    "path = \"/Users/soongjun/.cache/kagglehub/datasets/mitishaagarwal/patient/versions/3/dataset.csv\"\n",
    "\n",
    "data = pd.read_csv(path)\n",
    "\n",
    "# data.head()"
   ]
  },
  {
   "cell_type": "markdown",
   "metadata": {},
   "source": [
    "- Count the number of rows and columns\n",
    "- Display the columns' names"
   ]
  },
  {
   "cell_type": "code",
   "execution_count": 3,
   "metadata": {},
   "outputs": [
    {
     "name": "stdout",
     "output_type": "stream",
     "text": [
      "Dataset shape: (91713, 85) \n",
      "\n",
      "Columns: Index(['encounter_id', 'patient_id', 'hospital_id', 'age', 'bmi',\n",
      "       'elective_surgery', 'ethnicity', 'gender', 'height', 'icu_admit_source',\n",
      "       'icu_id', 'icu_stay_type', 'icu_type', 'pre_icu_los_days', 'weight',\n",
      "       'apache_2_diagnosis', 'apache_3j_diagnosis', 'apache_post_operative',\n",
      "       'arf_apache', 'gcs_eyes_apache', 'gcs_motor_apache',\n",
      "       'gcs_unable_apache', 'gcs_verbal_apache', 'heart_rate_apache',\n",
      "       'intubated_apache', 'map_apache', 'resprate_apache', 'temp_apache',\n",
      "       'ventilated_apache', 'd1_diasbp_max', 'd1_diasbp_min',\n",
      "       'd1_diasbp_noninvasive_max', 'd1_diasbp_noninvasive_min',\n",
      "       'd1_heartrate_max', 'd1_heartrate_min', 'd1_mbp_max', 'd1_mbp_min',\n",
      "       'd1_mbp_noninvasive_max', 'd1_mbp_noninvasive_min', 'd1_resprate_max',\n",
      "       'd1_resprate_min', 'd1_spo2_max', 'd1_spo2_min', 'd1_sysbp_max',\n",
      "       'd1_sysbp_min', 'd1_sysbp_noninvasive_max', 'd1_sysbp_noninvasive_min',\n",
      "       'd1_temp_max', 'd1_temp_min', 'h1_diasbp_max', 'h1_diasbp_min',\n",
      "       'h1_diasbp_noninvasive_max', 'h1_diasbp_noninvasive_min',\n",
      "       'h1_heartrate_max', 'h1_heartrate_min', 'h1_mbp_max', 'h1_mbp_min',\n",
      "       'h1_mbp_noninvasive_max', 'h1_mbp_noninvasive_min', 'h1_resprate_max',\n",
      "       'h1_resprate_min', 'h1_spo2_max', 'h1_spo2_min', 'h1_sysbp_max',\n",
      "       'h1_sysbp_min', 'h1_sysbp_noninvasive_max', 'h1_sysbp_noninvasive_min',\n",
      "       'd1_glucose_max', 'd1_glucose_min', 'd1_potassium_max',\n",
      "       'd1_potassium_min', 'apache_4a_hospital_death_prob',\n",
      "       'apache_4a_icu_death_prob', 'aids', 'cirrhosis', 'diabetes_mellitus',\n",
      "       'hepatic_failure', 'immunosuppression', 'leukemia', 'lymphoma',\n",
      "       'solid_tumor_with_metastasis', 'apache_3j_bodysystem',\n",
      "       'apache_2_bodysystem', 'Unnamed: 83', 'hospital_death'],\n",
      "      dtype='object')\n"
     ]
    }
   ],
   "source": [
    "print(\"Dataset shape:\", data.shape, \"\\n\")\n",
    "print(\"Columns:\", data.columns)"
   ]
  },
  {
   "cell_type": "markdown",
   "metadata": {},
   "source": [
    "- Drop empty column by index\n",
    "- Count the number of rows and columns to ensure the column is removed\n",
    "- Display the new columns' names"
   ]
  },
  {
   "cell_type": "code",
   "execution_count": 4,
   "metadata": {},
   "outputs": [
    {
     "name": "stdout",
     "output_type": "stream",
     "text": [
      "Dataset shape: (91713, 82) \n",
      "\n",
      "Columns: Index(['patient_id', 'age', 'bmi', 'elective_surgery', 'ethnicity', 'gender',\n",
      "       'height', 'icu_admit_source', 'icu_id', 'icu_stay_type', 'icu_type',\n",
      "       'pre_icu_los_days', 'weight', 'apache_2_diagnosis',\n",
      "       'apache_3j_diagnosis', 'apache_post_operative', 'arf_apache',\n",
      "       'gcs_eyes_apache', 'gcs_motor_apache', 'gcs_unable_apache',\n",
      "       'gcs_verbal_apache', 'heart_rate_apache', 'intubated_apache',\n",
      "       'map_apache', 'resprate_apache', 'temp_apache', 'ventilated_apache',\n",
      "       'd1_diasbp_max', 'd1_diasbp_min', 'd1_diasbp_noninvasive_max',\n",
      "       'd1_diasbp_noninvasive_min', 'd1_heartrate_max', 'd1_heartrate_min',\n",
      "       'd1_mbp_max', 'd1_mbp_min', 'd1_mbp_noninvasive_max',\n",
      "       'd1_mbp_noninvasive_min', 'd1_resprate_max', 'd1_resprate_min',\n",
      "       'd1_spo2_max', 'd1_spo2_min', 'd1_sysbp_max', 'd1_sysbp_min',\n",
      "       'd1_sysbp_noninvasive_max', 'd1_sysbp_noninvasive_min', 'd1_temp_max',\n",
      "       'd1_temp_min', 'h1_diasbp_max', 'h1_diasbp_min',\n",
      "       'h1_diasbp_noninvasive_max', 'h1_diasbp_noninvasive_min',\n",
      "       'h1_heartrate_max', 'h1_heartrate_min', 'h1_mbp_max', 'h1_mbp_min',\n",
      "       'h1_mbp_noninvasive_max', 'h1_mbp_noninvasive_min', 'h1_resprate_max',\n",
      "       'h1_resprate_min', 'h1_spo2_max', 'h1_spo2_min', 'h1_sysbp_max',\n",
      "       'h1_sysbp_min', 'h1_sysbp_noninvasive_max', 'h1_sysbp_noninvasive_min',\n",
      "       'd1_glucose_max', 'd1_glucose_min', 'd1_potassium_max',\n",
      "       'd1_potassium_min', 'apache_4a_hospital_death_prob',\n",
      "       'apache_4a_icu_death_prob', 'aids', 'cirrhosis', 'diabetes_mellitus',\n",
      "       'hepatic_failure', 'immunosuppression', 'leukemia', 'lymphoma',\n",
      "       'solid_tumor_with_metastasis', 'apache_3j_bodysystem',\n",
      "       'apache_2_bodysystem', 'hospital_death'],\n",
      "      dtype='object')\n"
     ]
    }
   ],
   "source": [
    "data = data.drop(data.columns[-2], axis=1)\n",
    "data = data.drop(columns = [\"encounter_id\", \"hospital_id\"])\n",
    "\n",
    "print(\"Dataset shape:\", data.shape, \"\\n\")\n",
    "print(\"Columns:\", data.columns)"
   ]
  },
  {
   "cell_type": "markdown",
   "metadata": {},
   "source": [
    "- Check the total columns with missing values"
   ]
  },
  {
   "cell_type": "code",
   "execution_count": 5,
   "metadata": {},
   "outputs": [
    {
     "name": "stdout",
     "output_type": "stream",
     "text": [
      "Total columns with missing values: 74\n"
     ]
    }
   ],
   "source": [
    "missing_values = data.isnull().mean() * 100\n",
    "\n",
    "missing_summary = missing_values[missing_values > 0].sort_values(ascending=False)\n",
    "\n",
    "print(f\"Total columns with missing values: {missing_summary.shape[0]}\")"
   ]
  },
  {
   "cell_type": "markdown",
   "metadata": {},
   "source": [
    "- Set a random seed to ensure the randomness is consistent"
   ]
  },
  {
   "cell_type": "code",
   "execution_count": 6,
   "metadata": {},
   "outputs": [],
   "source": [
    "np.random.seed(42)"
   ]
  },
  {
   "cell_type": "markdown",
   "metadata": {},
   "source": [
    "- Separate the columns into numerical and categorical\n",
    "- Handle missing values in numerical and categorical seperately\n",
    "- Numerical will fill in missing values with medium values\n",
    "- Categorical will fill in missing values with random choice from non-missing values\n",
    "- Check if missing values is remained exist "
   ]
  },
  {
   "cell_type": "code",
   "execution_count": 7,
   "metadata": {},
   "outputs": [
    {
     "name": "stdout",
     "output_type": "stream",
     "text": [
      "Total missing values after imputation: 0\n"
     ]
    }
   ],
   "source": [
    "numerical_columns = data.select_dtypes(include=['number']).columns\n",
    "categorical_columns = data.select_dtypes(exclude=['number']).columns\n",
    "\n",
    "for col in numerical_columns:\n",
    "    if data[col].isnull().sum() > 0:\n",
    "        data[col] = data[col].fillna(data[col].median())\n",
    "\n",
    "for col in categorical_columns:\n",
    "    if data[col].isnull().sum() > 0:\n",
    "        non_missing_values = data[col].dropna().unique()\n",
    "        \n",
    "        data[col] = data[col].apply(\n",
    "            lambda x: np.random.choice(non_missing_values) if pd.isnull(x) else x\n",
    "        )\n",
    "\n",
    "missing_values_after_imputation = data.isnull().sum().sum()\n",
    "print(f\"Total missing values after imputation: {missing_values_after_imputation}\")"
   ]
  },
  {
   "cell_type": "markdown",
   "metadata": {},
   "source": [
    "- Check the data types to identify categorical columns\n",
    "- Apply one-hot Encoding to to categorical columns\n",
    "- Count the number of rows and columns in the data"
   ]
  },
  {
   "cell_type": "code",
   "execution_count": 8,
   "metadata": {},
   "outputs": [
    {
     "name": "stdout",
     "output_type": "stream",
     "text": [
      "Categorical Columns: ['ethnicity', 'gender', 'icu_admit_source', 'icu_stay_type', 'icu_type', 'apache_3j_bodysystem', 'apache_2_bodysystem'] \n",
      "\n",
      "Shape after encoding: (91713, 113) \n",
      "\n"
     ]
    }
   ],
   "source": [
    "categorical_columns = data.select_dtypes(include=['object', 'category']).columns.tolist()\n",
    "\n",
    "data_encoded = pd.get_dummies(data, columns=categorical_columns, drop_first=True)\n",
    "\n",
    "print(\"Categorical Columns:\", categorical_columns, \"\\n\")\n",
    "# print(\"Data after one-hot encoding:\", \"\\n\")\n",
    "# print(df_encoded.head(), \"\\n\")\n",
    "print(\"Shape after encoding:\", data_encoded.shape, \"\\n\")"
   ]
  },
  {
   "cell_type": "markdown",
   "metadata": {},
   "source": [
    "- Identify the numerical columns\n",
    "- Remove the target variables\n",
    "- Normalise or scale numerial features with one-hot encoder"
   ]
  },
  {
   "cell_type": "code",
   "execution_count": 9,
   "metadata": {},
   "outputs": [
    {
     "name": "stdout",
     "output_type": "stream",
     "text": [
      "Shape after scaling: (91713, 113) \n",
      "\n"
     ]
    }
   ],
   "source": [
    "numerical_columns = data_encoded.select_dtypes(include=['int64', 'float64']).columns.tolist()\n",
    "\n",
    "numerical_columns.remove('hospital_death')\n",
    "\n",
    "scaler = StandardScaler()\n",
    "\n",
    "data_encoded[numerical_columns] = scaler.fit_transform(data_encoded[numerical_columns])\n",
    "\n",
    "# print(\"Data after scaling:\", \"\\n\")\n",
    "# print(data_encoded.head(), \"\\n\")\n",
    "print(\"Shape after scaling:\", data_encoded.shape, \"\\n\")"
   ]
  },
  {
   "cell_type": "markdown",
   "metadata": {},
   "source": [
    "- Separate the encoded data into X and y\n",
    "- Split the data into training, validation, and testing set\n",
    "- Data spliting ratio is 80:10:10\n",
    "- Apply feature scaling after splitting"
   ]
  },
  {
   "cell_type": "code",
   "execution_count": 10,
   "metadata": {},
   "outputs": [
    {
     "name": "stdout",
     "output_type": "stream",
     "text": [
      "Training set shape: (73370, 111) \n",
      "\n",
      "Validation set shape: (9171, 111) \n",
      "\n",
      "Test set shape: (9172, 111) \n",
      "\n"
     ]
    }
   ],
   "source": [
    "X = data_encoded.drop(columns=['hospital_death', 'patient_id'])\n",
    "y = data_encoded['hospital_death']\n",
    "\n",
    "X_train, X_temp, y_train, y_temp = train_test_split(X, y, test_size=0.2, random_state=42, stratify=y)\n",
    "\n",
    "X_val, X_test, y_val, y_test = train_test_split(X_temp, y_temp, test_size=0.5, random_state=42, stratify=y_temp)\n",
    "\n",
    "X_train_scaled = scaler.fit_transform(X_train)\n",
    "\n",
    "X_val_scaled = scaler.transform(X_val)\n",
    "\n",
    "X_test_scaled = scaler.transform(X_test)\n",
    "\n",
    "print(\"Training set shape:\", X_train_scaled.shape, \"\\n\")\n",
    "print(\"Validation set shape:\", X_val_scaled.shape, \"\\n\")\n",
    "print(\"Test set shape:\", X_test_scaled.shape, \"\\n\")"
   ]
  },
  {
   "cell_type": "markdown",
   "metadata": {},
   "source": [
    "# Model Architecture"
   ]
  },
  {
   "cell_type": "code",
   "execution_count": null,
   "metadata": {},
   "outputs": [],
   "source": [
    "# Importing necessary libraries\n",
    "import pandas as pd\n",
    "from sklearn.model_selection import train_test_split\n",
    "from sklearn.preprocessing import LabelEncoder, StandardScaler\n",
    "from sklearn.feature_selection import VarianceThreshold\n",
    "from imblearn.over_sampling import SMOTE\n",
    "from sklearn.metrics import accuracy_score, classification_report\n",
    "import torch\n",
    "import torch.nn as nn\n",
    "import torch.optim as optim\n",
    "from torch.utils.data import DataLoader, Dataset\n",
    "from collections import Counter\n",
    "\n",
    "# 1. Data Loading\n",
    "df = pd.read_csv('dataset.csv')\n",
    "\n",
    "# 2. Feature & Target Separation\n",
    "X = df.drop(columns=[\"hospital_death\"])\n",
    "y = df[\"hospital_death\"]\n",
    "\n",
    "# 3. Handle Missing Values\n",
    "# Separate numeric and categorical columns\n",
    "numeric_cols = X.select_dtypes(include=['number']).columns\n",
    "categorical_cols = X.select_dtypes(include=['object']).columns\n",
    "\n",
    "# Fill missing values\n",
    "X[numeric_cols] = X[numeric_cols].fillna(X[numeric_cols].median())  # Median for numeric\n",
    "X[categorical_cols] = X[categorical_cols].fillna(X[categorical_cols].mode().iloc[0])  # Mode for categorical\n",
    "\n",
    "# 4. Encode Categorical Data\n",
    "label_encoder = LabelEncoder()\n",
    "for col in categorical_cols:\n",
    "    X[col] = label_encoder.fit_transform(X[col])\n",
    "\n",
    "print(X[categorical_cols].head())\n",
    "\n",
    "# 5. Remove Low Variance Features\n",
    "selector = VarianceThreshold(threshold=0.01)\n",
    "X_selected = pd.DataFrame(selector.fit_transform(X), columns=X.columns[selector.get_support()])\n",
    "\n",
    "dropped_features = X.columns[~selector.get_support()]\n",
    "selected_features = X.columns[selector.get_support()]\n",
    "\n",
    "print(\"Dropped Features:\\n\", dropped_features)\n",
    "\n",
    "print(\"Selected Features:\\n\", selected_features)\n",
    "print(X.shape, X_selected.shape)\n",
    "\n",
    "# 6. Handle Class Imbalance with SMOTE\n",
    "smote = SMOTE(random_state=42)\n",
    "X_resampled, y_resampled = smote.fit_resample(X_selected, y)\n",
    "\n",
    "# Print class distribution after SMOTE\n",
    "print(\"Class Distribution After SMOTE:\", Counter(y_resampled))\n",
    "# Visualize class distribution after SMOTE\n",
    "plt.figure(figsize=(8, 6))\n",
    "sns.countplot(x=y_resampled, palette=\"plasma\")\n",
    "plt.title(\"Class Distribution After SMOTE\")\n",
    "plt.xlabel(\"Class Labels\")\n",
    "plt.ylabel(\"Count\")\n",
    "plt.show()\n",
    "\n",
    "# 7. Split Data into Training and Test Sets (80%, 20%)\n",
    "X_train, X_test, y_train, y_test = train_test_split(X_resampled, y_resampled, test_size=0.2, random_state=42)\n",
    "\n",
    "# 8. Feature Scaling\n",
    "scaler = StandardScaler()\n",
    "X_train_scaled = scaler.fit_transform(X_train)\n",
    "X_test_scaled = scaler.transform(X_test)\n",
    "\n",
    "# 9. Convert Data to PyTorch Tensors\n",
    "class MortalityDataset(Dataset):\n",
    "    def __init__(self, X, y):\n",
    "        # Convert the input features and target labels to PyTorch tensors\n",
    "        self.X = torch.tensor(X, dtype=torch.float32)\n",
    "        self.y = torch.tensor(y.values.reshape(-1, 1), dtype=torch.float32)\n",
    "        \n",
    "    def __len__(self):\n",
    "        return len(self.y)\n",
    "    \n",
    "    def __getitem__(self, index):\n",
    "        return self.X[index], self.y[index]\n",
    "\n",
    "# Initialize datasets and loaders\n",
    "train_dataset = MortalityDataset(X_train_scaled, y_train)\n",
    "test_dataset = MortalityDataset(X_test_scaled, y_test)\n",
    "\n",
    "train_loader = DataLoader(train_dataset, batch_size=64, shuffle=True)\n",
    "test_loader = DataLoader(test_dataset, batch_size=64, shuffle=False)\n",
    "\n",
    "# 11. Define the PyTorch MLP Model\n",
    "class MortalityMLP(nn.Module):\n",
    "    def __init__(self, input_size):\n",
    "        super(MortalityMLP, self).__init__()\n",
    "        self.fc1 = nn.Linear(input_size, 64) # First hidden layer with 64 neurons\n",
    "        self.bn1 = nn.BatchNorm1d(64) # Stable training and faster convergence speed\n",
    "        self.fc2 = nn.Linear(64, 32) # Second hidden layer with 32 neurons\n",
    "        self.bn2 = nn.BatchNorm1d(32)\n",
    "        self.output = nn.Linear(32, 1)\n",
    "        self.relu = nn.ReLU()\n",
    "        self.dropout = nn.Dropout(0.2)\n",
    "        \n",
    "    def forward(self, x):\n",
    "        x = self.relu(self.bn1(self.fc1(x)))\n",
    "        x = self.dropout(x)\n",
    "        x = self.relu(self.bn2(self.fc2(x)))\n",
    "        x = self.dropout(x)\n",
    "        return torch.sigmoid(self.output(x))  # Sigmoid is often used for binary classification\n",
    "\n",
    "# 12. Initialize Model, Loss, and Optimizer\n",
    "device = torch.device(\"cuda\" if torch.cuda.is_available() else \"cpu\") \n",
    "input_size = X_train.shape[1]\n",
    "model = MortalityMLP(input_size).to(device) # \n",
    "criterion = nn.BCELoss() # Binary Cross Entropy Loss\n",
    "optimizer = optim.Adam(model.parameters(), lr=0.001)\n",
    "\n",
    "# 13. Train the Model\n",
    "loss_values_train = []\n",
    "loss_values_val = []\n",
    "epochs = 10\n",
    "\n",
    "for epoch in range(epochs):\n",
    "    total_train_loss = 0\n",
    "    total_val_loss = 0\n",
    "    \n",
    "    # Training Phase\n",
    "    model.train()\n",
    "    for inputs, labels in train_loader:\n",
    "        inputs, labels = inputs.to(device), labels.to(device) # Ensure that train with GPU\n",
    "\n",
    "        optimizer.zero_grad() #  Clear gradient buffers because we don't want any gradient from previous epoch to carry forward, dont want to cummulate gradients\n",
    "        \n",
    "        outputs = model(inputs) # get output from the model, given the inputs\n",
    "        loss = criterion(outputs, labels)  # get loss for the predicted output\n",
    "        \n",
    "        # get gradients w.r.t to parameters\n",
    "        loss.backward()\n",
    "        # update parameters\n",
    "        optimizer.step()\n",
    "        \n",
    "        total_train_loss += loss.item()\n",
    "    \n",
    "    # Validation Phase\n",
    "    model.eval()\n",
    "    y_pred_list, y_true_list = [], []\n",
    "\n",
    "    with torch.no_grad():\n",
    "        for inputs, labels in test_loader:\n",
    "            inputs, labels = inputs.to(device), labels.to(device)\n",
    "            outputs = model(inputs)\n",
    "            loss = criterion(outputs, labels)\n",
    "            total_val_loss += loss.item()\n",
    "    \n",
    "    # Calculate average losses\n",
    "    avg_train_loss = total_train_loss / len(train_loader)\n",
    "    avg_val_loss = total_val_loss / len(test_loader)\n",
    "    loss_values_train.append(avg_train_loss)\n",
    "    loss_values_val.append(avg_val_loss)\n",
    "    \n",
    "    print(f\"Epoch [{epoch+1}/{epochs}], Train Loss: {avg_train_loss:.4f}, Val Loss: {avg_val_loss:.4f}\")\n",
    "\n",
    "    # Evaluate the Model\n",
    "model.eval()\n",
    "y_pred_list = []\n",
    "y_true_list = []\n",
    "\n",
    "# Collect all predictions and true labels\n",
    "with torch.no_grad():\n",
    "    for inputs, labels in test_loader:\n",
    "        inputs, labels = inputs.to(device), labels.to(device)\n",
    "        outputs = model(inputs)\n",
    "        predictions = ((outputs) > 0.5).float()\n",
    "        y_pred_list.extend(predictions.cpu().numpy())\n",
    "        y_true_list.extend(labels.cpu().numpy())\n",
    "\n",
    "# Calculate Accuracy and Print Classification Report\n",
    "accuracy = accuracy_score(y_true_list, y_pred_list)\n",
    "report = classification_report(y_true_list, y_pred_list)\n",
    "\n",
    "print(\"\\Model Performance:\")\n",
    "print(f\"Accuracy: {accuracy:.4f}\")\n",
    "print(\"\\nClassification Report:\\n\", report)"
   ]
  },
  {
   "cell_type": "code",
   "execution_count": null,
   "metadata": {},
   "outputs": [],
   "source": [
    "import matplotlib.pyplot as plt\n",
    "\n",
    "plt.figure(figsize=(8, 6))\n",
    "plt.plot(range(1, epochs + 1), loss_values_train, label=\"Training Loss\")\n",
    "plt.plot(range(1, epochs + 1), loss_values_val, label=\"Validation Loss\")\n",
    "plt.xlabel(\"Epochs\")\n",
    "plt.ylabel(\"Loss\")\n",
    "plt.title(\"Training vs Validation Loss\")\n",
    "plt.legend()\n",
    "plt.show()"
   ]
  },
  {
   "cell_type": "markdown",
   "metadata": {},
   "source": [
    "# Optimizing Network Architecture - Deeper Neural NEtwork\n",
    "1. Increase the number of neurons for each hidden layers\n",
    "2. Additional hidden layer is added\n",
    "3. Increase Dropout\n",
    "4. Reduce learning rate\n",
    "5. Assign weight_decay (L2 Regularization) to prevent overfitting\n",
    "6. Learning Scheduler "
   ]
  },
  {
   "cell_type": "code",
   "execution_count": null,
   "metadata": {},
   "outputs": [],
   "source": [
    "import torch\n",
    "import torch.nn as nn\n",
    "import torch.optim as optim\n",
    "from sklearn.metrics import accuracy_score, classification_report\n",
    "import matplotlib.pyplot as plt\n",
    "\n",
    "# Model Definition with Increased Complexity and Dropout\n",
    "class TunedMortalityMLP(nn.Module):\n",
    "    def __init__(self, input_size):\n",
    "        super(TunedMortalityMLP, self).__init__()\n",
    "        self.fc1 = nn.Linear(input_size, 128)  # Increase to 128 neurons\n",
    "        self.bn1 = nn.BatchNorm1d(128)\n",
    "        self.fc2 = nn.Linear(128, 64)          # Add another layer\n",
    "        self.bn2 = nn.BatchNorm1d(64)\n",
    "        self.fc3 = nn.Linear(64, 32)           # Another smaller layer\n",
    "        self.bn3 = nn.BatchNorm1d(32)\n",
    "        self.output = nn.Linear(32, 1)         # Output layer\n",
    "        self.relu = nn.ReLU()\n",
    "        self.dropout = nn.Dropout(0.3)         # Increase dropout for regularization\n",
    "\n",
    "    def forward(self, x):\n",
    "        x = self.relu(self.bn1(self.fc1(x)))\n",
    "        x = self.dropout(x)\n",
    "        x = self.relu(self.bn2(self.fc2(x)))\n",
    "        x = self.dropout(x)\n",
    "        x = self.relu(self.bn3(self.fc3(x)))\n",
    "        x = self.dropout(x)\n",
    "        return torch.sigmoid(self.output(x))\n",
    "\n",
    "# Initialize the Model\n",
    "device = torch.device(\"cuda\" if torch.cuda.is_available() else \"cpu\")\n",
    "input_size = X_train.shape[1]\n",
    "model = TunedMortalityMLP(input_size).to(device)\n",
    "\n",
    "# Define Loss, Optimizer, and Scheduler\n",
    "criterion = nn.BCELoss()\n",
    "optimizer = optim.Adam(model.parameters(), lr=0.0005, weight_decay= 0.0001)  # Lower LR + L2 Regularization to avoid overfitting\n",
    "scheduler = optim.lr_scheduler.StepLR(optimizer, step_size=5, gamma=0.5)  # Reduce LR after 5 epochs\n",
    "\n",
    "# Training Loop with Hyperparameter Tuning\n",
    "epochs = 20\n",
    "loss_values_train, loss_values_val = [], []\n",
    "\n",
    "for epoch in range(epochs):\n",
    "    total_train_loss = 0\n",
    "    total_val_loss = 0\n",
    "    \n",
    "    # Training Phase\n",
    "    model.train()\n",
    "    for inputs, labels in train_loader:\n",
    "        inputs, labels = inputs.to(device), labels.to(device)\n",
    "        optimizer.zero_grad() # Clear gradients\n",
    "        outputs = model(inputs)\n",
    "        loss = criterion(outputs, labels)\n",
    "        loss.backward()\n",
    "        optimizer.step()\n",
    "        total_train_loss += loss.item()\n",
    "\n",
    "    # Validation Phase\n",
    "    model.eval()\n",
    "    with torch.no_grad():\n",
    "        for inputs, labels in test_loader:\n",
    "            inputs, labels = inputs.to(device), labels.to(device)\n",
    "            outputs = model(inputs)\n",
    "            loss = criterion(outputs, labels)\n",
    "            total_val_loss += loss.item()\n",
    "\n",
    "    # Record average losses\n",
    "    avg_train_loss = total_train_loss / len(train_loader)\n",
    "    avg_val_loss = total_val_loss / len(test_loader)\n",
    "    loss_values_train.append(avg_train_loss)\n",
    "    loss_values_val.append(avg_val_loss)\n",
    "    \n",
    "    # Step the learning rate scheduler\n",
    "    scheduler.step()\n",
    "    \n",
    "    print(f\"Epoch [{epoch+1}/{epochs}], Train Loss: {avg_train_loss:.4f}, Val Loss: {avg_val_loss:.4f}\")\n",
    "\n",
    "# Plot Learning Curves\n",
    "plt.figure(figsize=(8, 6))\n",
    "plt.plot(range(1, epochs + 1), loss_values_train, label=\"Training Loss\")\n",
    "plt.plot(range(1, epochs + 1), loss_values_val, label=\"Validation Loss\")\n",
    "plt.xlabel(\"Epochs\")\n",
    "plt.ylabel(\"Loss\")\n",
    "plt.title(\"Training vs Validation Loss (Tuned Model)\")\n",
    "plt.legend()\n",
    "plt.show()\n",
    "\n",
    "# Evaluate the Tuned Model\n",
    "model.eval()\n",
    "y_pred_list, y_true_list = [], []\n",
    "with torch.no_grad():\n",
    "    for inputs, labels in test_loader:\n",
    "        inputs, labels = inputs.to(device), labels.to(device)\n",
    "        outputs = model(inputs)\n",
    "        predictions = (outputs > 0.5).float()\n",
    "        y_pred_list.extend(predictions.cpu().numpy())\n",
    "        y_true_list.extend(labels.cpu().numpy())\n",
    "\n",
    "accuracy = accuracy_score(y_true_list, y_pred_list)\n",
    "report = classification_report(y_true_list, y_pred_list)\n",
    "print(f\"\\nTuned Model Accuracy: {accuracy:.4f}\")\n",
    "print(\"\\nClassification Report:\\n\", report)\n"
   ]
  },
  {
   "cell_type": "markdown",
   "metadata": {},
   "source": [
    "**Observations:**\n",
    "* The model improvements from tuning (added layers, dropout, L2 regularization, and a learning rate scheduler) have significantly boosted performance and ensured generalization.\n",
    "* Both train loss and validation loss are relatively low and consistent."
   ]
  },
  {
   "cell_type": "markdown",
   "metadata": {},
   "source": [
    "# Hyperparameter Tuning\n",
    "1. Grid Search is used with different combination of:\n",
    "* Learning rate\n",
    "* Epochs\n",
    "* Dropout\n",
    "* Batch Sizes "
   ]
  },
  {
   "cell_type": "code",
   "execution_count": null,
   "metadata": {},
   "outputs": [],
   "source": [
    "import torch\n",
    "import torch.nn as nn\n",
    "import torch.optim as optim\n",
    "from torch.utils.data import DataLoader\n",
    "from sklearn.metrics import accuracy_score\n",
    "import itertools\n",
    "import numpy as np\n",
    "\n",
    "# Define Hyperparameter Grid\n",
    "learning_rates = [0.001, 0.0005]\n",
    "epochs_list = [10, 20]\n",
    "dropout_rates = [0.2, 0.3]\n",
    "batch_sizes = [64, 128]\n",
    "\n",
    "# Generate all combinations of hyperparameters\n",
    "hyperparameter_combinations = list(itertools.product(learning_rates, epochs_list, dropout_rates, batch_sizes))\n",
    "\n",
    "# Model Definition with Dropout as a Hyperparameter\n",
    "class TunedMortalityMLP(nn.Module):\n",
    "    def __init__(self, input_size, dropout_rate):\n",
    "        super(TunedMortalityMLP, self).__init__()\n",
    "        self.fc1 = nn.Linear(input_size, 128)\n",
    "        self.bn1 = nn.BatchNorm1d(128)\n",
    "        self.fc2 = nn.Linear(128, 64)\n",
    "        self.bn2 = nn.BatchNorm1d(64)\n",
    "        self.fc3 = nn.Linear(64, 32)\n",
    "        self.bn3 = nn.BatchNorm1d(32)\n",
    "        self.output = nn.Linear(32, 1)\n",
    "        self.relu = nn.ReLU()\n",
    "        self.dropout = nn.Dropout(dropout_rate)\n",
    "\n",
    "    def forward(self, x):\n",
    "        x = self.relu(self.bn1(self.fc1(x)))\n",
    "        x = self.dropout(x)\n",
    "        x = self.relu(self.bn2(self.fc2(x)))\n",
    "        x = self.dropout(x)\n",
    "        x = self.relu(self.bn3(self.fc3(x)))\n",
    "        x = self.dropout(x)\n",
    "        return torch.sigmoid(self.output(x))\n",
    "\n",
    "# Function to Train and Evaluate Model\n",
    "def train_and_evaluate_model(lr, epochs, dropout_rate, batch_size):\n",
    "    # Prepare DataLoader\n",
    "    train_dataset = MortalityDataset(X_train_scaled, y_train)\n",
    "    test_dataset = MortalityDataset(X_test_scaled, y_test)\n",
    "    train_loader = DataLoader(train_dataset, batch_size=batch_size, shuffle=True)\n",
    "    test_loader = DataLoader(test_dataset, batch_size=batch_size, shuffle=False)\n",
    "\n",
    "    # Initialize Model, Loss, and Optimizer\n",
    "    model = TunedMortalityMLP(input_size, dropout_rate).to(device)\n",
    "    criterion = nn.BCELoss()\n",
    "    optimizer = optim.Adam(model.parameters(), lr=lr)\n",
    "\n",
    "    # Training Loop\n",
    "    model.train()\n",
    "    for epoch in range(epochs):\n",
    "        total_train_loss = 0\n",
    "        for inputs, labels in train_loader:\n",
    "            inputs, labels = inputs.to(device), labels.to(device)\n",
    "            optimizer.zero_grad()\n",
    "            outputs = model(inputs)\n",
    "            loss = criterion(outputs, labels)\n",
    "            loss.backward()\n",
    "            optimizer.step()\n",
    "            total_train_loss += loss.item()\n",
    "\n",
    "    # Evaluation Loop\n",
    "    model.eval()\n",
    "    y_pred_list = []\n",
    "    y_true_list = []\n",
    "    total_val_loss = 0\n",
    "    with torch.no_grad():\n",
    "        for inputs, labels in test_loader:\n",
    "            inputs, labels = inputs.to(device), labels.to(device)\n",
    "            outputs = model(inputs)\n",
    "            loss = criterion(outputs, labels)\n",
    "            total_val_loss += loss.item()\n",
    "            preds = (outputs > 0.5).float()\n",
    "            y_pred_list.extend(preds.cpu().numpy())\n",
    "            y_true_list.extend(labels.cpu().numpy())\n",
    "\n",
    "    # Calculate Loss and Accuracy\n",
    "    avg_val_loss = total_val_loss / len(test_loader)\n",
    "    val_accuracy = accuracy_score(y_true_list, y_pred_list)\n",
    "\n",
    "    return avg_val_loss, val_accuracy\n",
    "\n",
    "# Hyperparameter Tuning Loop\n",
    "results = []\n",
    "for lr, epochs, dropout_rate, batch_size in hyperparameter_combinations:\n",
    "    print(f\"Testing Configuration: LR={lr}, Epochs={epochs}, Dropout={dropout_rate}, Batch Size={batch_size}\")\n",
    "    val_loss, val_accuracy = train_and_evaluate_model(lr, epochs, dropout_rate, batch_size)\n",
    "    results.append((lr, epochs, dropout_rate, batch_size, val_loss, val_accuracy))\n",
    "    print(f\"Validation Loss: {val_loss:.4f}, Validation Accuracy: {val_accuracy:.4f}\\n\")\n",
    "\n",
    "# Identify Best Configuration\n",
    "best_config = min(results, key=lambda x: x[4])  # Sort by lowest validation loss\n",
    "print(\"\\nBest Hyperparameter Configuration:\")\n",
    "print(f\"Learning Rate: {best_config[0]}, Epochs: {best_config[1]}, Dropout: {best_config[2]}, Batch Size: {best_config[3]}\")\n",
    "print(f\"Best Validation Loss: {best_config[4]:.4f}, Best Validation Accuracy: {best_config[5]:.4f}\")\n"
   ]
  }
 ],
 "metadata": {
  "kernelspec": {
   "display_name": "myenv",
   "language": "python",
   "name": "python3"
  },
  "language_info": {
   "codemirror_mode": {
    "name": "ipython",
    "version": 3
   },
   "file_extension": ".py",
   "mimetype": "text/x-python",
   "name": "python",
   "nbconvert_exporter": "python",
   "pygments_lexer": "ipython3",
   "version": "3.9.6"
  }
 },
 "nbformat": 4,
 "nbformat_minor": 2
}
